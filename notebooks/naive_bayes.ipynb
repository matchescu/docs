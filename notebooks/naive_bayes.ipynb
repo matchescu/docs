{
 "cells": [
  {
   "cell_type": "markdown",
   "id": "940700d100283c33",
   "metadata": {},
   "source": [
    "# Entity Resolution using the Naive Bayes ML model\n",
    "\n",
    "We're going to dive into using the Naive Bayes regression model. This model\n",
    "is probabilistic in nature and can be trained to classify data in a given number\n",
    "of categories.\n",
    "The model is supervised, meaning that it learns using known good examples.\n",
    "Sounds like an ideal fit for entity resolution, right?\n",
    "\n",
    "Let's dive in!\n",
    "\n",
    "_(btw, the first parts of this code are the same as the Fellegi-Sunter example\n",
    "notebook, so check that one out, too)_.   "
   ]
  },
  {
   "cell_type": "code",
   "execution_count": 1,
   "id": "5663febc-7497-42b3-8d49-7fdf5ab2ba88",
   "metadata": {
    "execution": {
     "iopub.execute_input": "2024-11-29T09:20:26.237733Z",
     "iopub.status.busy": "2024-11-29T09:20:26.236879Z",
     "iopub.status.idle": "2024-11-29T09:20:28.968190Z",
     "shell.execute_reply": "2024-11-29T09:20:28.967068Z",
     "shell.execute_reply.started": "2024-11-29T09:20:26.237696Z"
    }
   },
   "outputs": [
    {
     "name": "stdout",
     "output_type": "stream",
     "text": [
      "Requirement already satisfied: jellyfish in /opt/conda/lib/python3.12/site-packages (from -r /home/jovyan/requirements.txt (line 1)) (1.1.0)\n",
      "Requirement already satisfied: polars in /opt/conda/lib/python3.12/site-packages (from -r /home/jovyan/requirements.txt (line 2)) (1.15.0)\n",
      "Requirement already satisfied: plotly in /opt/conda/lib/python3.12/site-packages (from -r /home/jovyan/requirements.txt (line 3)) (5.24.1)\n",
      "Requirement already satisfied: matchescu-base in /opt/conda/lib/python3.12/site-packages (from -r /home/jovyan/requirements.txt (line 4)) (0.7.0)\n",
      "Requirement already satisfied: matchescu-matching in /opt/conda/lib/python3.12/site-packages (from -r /home/jovyan/requirements.txt (line 5)) (0.1.2)\n",
      "Requirement already satisfied: tenacity>=6.2.0 in /opt/conda/lib/python3.12/site-packages (from plotly->-r /home/jovyan/requirements.txt (line 3)) (9.0.0)\n",
      "Requirement already satisfied: packaging in /opt/conda/lib/python3.12/site-packages (from plotly->-r /home/jovyan/requirements.txt (line 3)) (24.2)\n",
      "Requirement already satisfied: numpy<3.0.0,>=2.1.3 in /opt/conda/lib/python3.12/site-packages (from matchescu-matching->-r /home/jovyan/requirements.txt (line 5)) (2.1.3)\n",
      "Requirement already satisfied: scikit-learn<2.0.0,>=1.5.2 in /opt/conda/lib/python3.12/site-packages (from matchescu-matching->-r /home/jovyan/requirements.txt (line 5)) (1.5.2)\n",
      "Requirement already satisfied: scipy>=1.6.0 in /opt/conda/lib/python3.12/site-packages (from scikit-learn<2.0.0,>=1.5.2->matchescu-matching->-r /home/jovyan/requirements.txt (line 5)) (1.14.1)\n",
      "Requirement already satisfied: joblib>=1.2.0 in /opt/conda/lib/python3.12/site-packages (from scikit-learn<2.0.0,>=1.5.2->matchescu-matching->-r /home/jovyan/requirements.txt (line 5)) (1.4.2)\n",
      "Requirement already satisfied: threadpoolctl>=3.1.0 in /opt/conda/lib/python3.12/site-packages (from scikit-learn<2.0.0,>=1.5.2->matchescu-matching->-r /home/jovyan/requirements.txt (line 5)) (3.5.0)\n"
     ]
    }
   ],
   "source": [
    "!test -f ~/requirements.txt && pip install -r ~/requirements.txt"
   ]
  },
  {
   "cell_type": "code",
   "execution_count": 2,
   "id": "ca31fd0d-16e8-4b69-ae32-3cfa3d13cd64",
   "metadata": {
    "ExecuteTime": {
     "end_time": "2024-10-09T07:00:09.208321Z",
     "start_time": "2024-10-09T07:00:08.900742Z"
    },
    "execution": {
     "iopub.execute_input": "2024-11-29T09:20:31.213084Z",
     "iopub.status.busy": "2024-11-29T09:20:31.212301Z",
     "iopub.status.idle": "2024-11-29T09:20:31.580528Z",
     "shell.execute_reply": "2024-11-29T09:20:31.579578Z",
     "shell.execute_reply.started": "2024-11-29T09:20:31.213048Z"
    }
   },
   "outputs": [],
   "source": [
    "import os\n",
    "\n",
    "import numpy as np\n",
    "import polars as pl\n",
    "\n",
    "from matchescu.matching.entity_reference import (\n",
    "    NaiveBayesComparison,\n",
    ")\n",
    "from matchescu.matching.ml.datasets import CsvDataSource, Traits"
   ]
  },
  {
   "cell_type": "markdown",
   "id": "86ec9eb605aa9917",
   "metadata": {},
   "source": [
    "Next, we need to define some fairly important 'constants' (alas, there's no such thing in Python).\n",
    "Feel free to change these values to whichever dataset you want to test."
   ]
  },
  {
   "cell_type": "code",
   "execution_count": 3,
   "id": "ca59198f-45a6-48da-b119-b1e5d18d81a9",
   "metadata": {
    "ExecuteTime": {
     "end_time": "2024-10-09T07:00:11.529122Z",
     "start_time": "2024-10-09T07:00:11.525257Z"
    },
    "execution": {
     "iopub.execute_input": "2024-11-29T09:20:34.348335Z",
     "iopub.status.busy": "2024-11-29T09:20:34.347400Z",
     "iopub.status.idle": "2024-11-29T09:20:34.353932Z",
     "shell.execute_reply": "2024-11-29T09:20:34.352732Z",
     "shell.execute_reply.started": "2024-11-29T09:20:34.348305Z"
    }
   },
   "outputs": [],
   "source": [
    "DATADIR = os.path.abspath(\"../../data\")\n",
    "LEFT_CSV_PATH = os.path.join(DATADIR, \"abt-buy\", \"Abt.csv\")\n",
    "RIGHT_CSV_PATH = os.path.join(DATADIR, \"abt-buy\", \"Buy.csv\")\n",
    "GROUND_TRUTH_PATH = os.path.join(DATADIR, \"abt-buy\", \"abt_buy_perfectMapping.csv\")"
   ]
  },
  {
   "cell_type": "markdown",
   "id": "94a19e6978f60a76",
   "metadata": {},
   "source": [
    "The sources of information can be structured in any way. However, when we read\n",
    "from the data source we expect to be able to refer to discrete pieces of\n",
    "information.\n",
    "The important bit is to have a decent feature extraction process that is able to\n",
    "produce relatively uniformly shaped entity references. That's what `Traits()`\n",
    "do. That way we can get a neat matching process going.  "
   ]
  },
  {
   "cell_type": "code",
   "execution_count": 4,
   "id": "83b92f4b0ad5b632",
   "metadata": {
    "ExecuteTime": {
     "end_time": "2024-10-09T07:00:13.869296Z",
     "start_time": "2024-10-09T07:00:13.860381Z"
    },
    "execution": {
     "iopub.execute_input": "2024-11-29T09:20:36.673398Z",
     "iopub.status.busy": "2024-11-29T09:20:36.672901Z",
     "iopub.status.idle": "2024-11-29T09:20:36.783478Z",
     "shell.execute_reply": "2024-11-29T09:20:36.782699Z",
     "shell.execute_reply.started": "2024-11-29T09:20:36.673358Z"
    }
   },
   "outputs": [],
   "source": [
    "# set up abt extraction\n",
    "abt_traits = list(Traits().int([0]).string([1, 2]).currency([3]))\n",
    "abt = CsvDataSource(name=\"abt\", traits=abt_traits).read_csv(LEFT_CSV_PATH)\n",
    "# set up buy extraction\n",
    "buy_traits = list(Traits().int([0]).string([1, 2, 3]).currency([4]))\n",
    "buy = CsvDataSource(name=\"buy\", traits=buy_traits).read_csv(RIGHT_CSV_PATH)\n",
    "# set up ground truth\n",
    "gt = set(\n",
    "    pl.read_csv(\n",
    "        os.path.join(DATADIR, \"abt-buy\", \"abt_buy_perfectMapping.csv\"),\n",
    "        ignore_errors=True,\n",
    "    ).iter_rows()\n",
    ")"
   ]
  },
  {
   "cell_type": "markdown",
   "id": "7256f6f27121c8a6",
   "metadata": {},
   "source": [
    "So far, this is very similar to the setup we had for the Fellegi-Sunter model.\n",
    "It's time to introduce the twist required to use the Naive Bayes model."
   ]
  },
  {
   "cell_type": "code",
   "execution_count": 5,
   "id": "9a8c40f7a87a6ed5",
   "metadata": {
    "ExecuteTime": {
     "end_time": "2024-10-09T07:01:07.519832Z",
     "start_time": "2024-10-09T07:01:07.516288Z"
    },
    "execution": {
     "iopub.execute_input": "2024-11-29T09:21:38.648387Z",
     "iopub.status.busy": "2024-11-29T09:21:38.647980Z",
     "iopub.status.idle": "2024-11-29T09:21:38.654819Z",
     "shell.execute_reply": "2024-11-29T09:21:38.653882Z",
     "shell.execute_reply.started": "2024-11-29T09:21:38.648359Z"
    }
   },
   "outputs": [],
   "source": [
    "cmp_config = (\n",
    "    NaiveBayesComparison()\n",
    "    .levenshtein(\"name\", 1, 1, threshold=0.8)\n",
    "    .levenshtein(\"description\", 2, 2, threshold=0.8)\n",
    "    .exact(\"price\", 3, 4)\n",
    ")"
   ]
  },
  {
   "cell_type": "markdown",
   "id": "f119313d74584337",
   "metadata": {},
   "source": [
    "As you can see, the setup is still very similar to the Fellegi-Sunter model.\n",
    "We can even reuse our `RecordLinkageDataSet` to showcase the Naive Bayes model."
   ]
  },
  {
   "cell_type": "code",
   "execution_count": 6,
   "id": "fbeabd2e052f94d2",
   "metadata": {
    "ExecuteTime": {
     "end_time": "2024-10-09T08:29:46.721186Z",
     "start_time": "2024-10-09T08:28:09.803252Z"
    },
    "execution": {
     "iopub.execute_input": "2024-11-29T09:21:41.935230Z",
     "iopub.status.busy": "2024-11-29T09:21:41.934139Z",
     "iopub.status.idle": "2024-11-29T09:24:53.745340Z",
     "shell.execute_reply": "2024-11-29T09:24:53.744296Z",
     "shell.execute_reply.started": "2024-11-29T09:21:41.935171Z"
    }
   },
   "outputs": [],
   "source": [
    "from matchescu.matching.ml.datasets import RecordLinkageDataSet\n",
    "\n",
    "ds = RecordLinkageDataSet(abt, buy, gt).attr_compare(cmp_config).cross_sources()\n",
    "y = ds.target_vector.to_numpy()\n",
    "X = ds.feature_matrix.to_numpy()"
   ]
  },
  {
   "cell_type": "markdown",
   "id": "275e706feb9e71c7",
   "metadata": {},
   "source": [
    "We just created the same type of feature matrix and target vector like the ones\n",
    "we had for the Fellegi-Sunter model.\n",
    "This time around, however, we need to pass them to SciKit Learn so we'll need\n",
    "all our data to be `numpy.ndarray`s.\n",
    "Also, the feature matrix values will be in the set `{-1, 1}`. "
   ]
  },
  {
   "cell_type": "code",
   "execution_count": 7,
   "id": "1937dd3ee913f9cc",
   "metadata": {
    "ExecuteTime": {
     "end_time": "2024-10-09T08:39:28.245767Z",
     "start_time": "2024-10-09T08:39:28.193928Z"
    },
    "execution": {
     "iopub.execute_input": "2024-11-29T09:35:30.715515Z",
     "iopub.status.busy": "2024-11-29T09:35:30.714931Z",
     "iopub.status.idle": "2024-11-29T09:35:33.944928Z",
     "shell.execute_reply": "2024-11-29T09:35:33.943656Z",
     "shell.execute_reply.started": "2024-11-29T09:35:30.715486Z"
    }
   },
   "outputs": [
    {
     "name": "stdout",
     "output_type": "stream",
     "text": [
      "0.0009293050458637878 0.0009219634857279205 0.0009403173782934934\n"
     ]
    }
   ],
   "source": [
    "from sklearn.model_selection import train_test_split\n",
    "\n",
    "X_train, X_test, y_train, y_test = train_test_split(X, y, train_size=0.6)\n",
    "y_ratio = len(y[y == 1]) / len(y)\n",
    "y_train_ratio = len(y_train[y_train == 1]) / len(y_train)\n",
    "y_test_ratio = len(y_test[y_test == 1]) / len(y_test)\n",
    "print(y_ratio, y_train_ratio, y_test_ratio)"
   ]
  },
  {
   "cell_type": "markdown",
   "id": "71650989f15c1e09",
   "metadata": {},
   "source": [
    "We can now train the Naive Bayes model that ships with SciKit learn."
   ]
  },
  {
   "cell_type": "code",
   "execution_count": 8,
   "id": "e45a9e9214087a12",
   "metadata": {
    "ExecuteTime": {
     "end_time": "2024-10-09T08:39:32.303956Z",
     "start_time": "2024-10-09T08:39:32.222571Z"
    },
    "execution": {
     "iopub.execute_input": "2024-11-29T09:35:42.785854Z",
     "iopub.status.busy": "2024-11-29T09:35:42.784930Z",
     "iopub.status.idle": "2024-11-29T09:35:43.016614Z",
     "shell.execute_reply": "2024-11-29T09:35:43.015728Z",
     "shell.execute_reply.started": "2024-11-29T09:35:42.785798Z"
    }
   },
   "outputs": [],
   "source": [
    "from sklearn.naive_bayes import GaussianNB\n",
    "\n",
    "model = GaussianNB()\n",
    "model = model.fit(X_train, y_train)"
   ]
  },
  {
   "cell_type": "markdown",
   "id": "f9d5564cdf5d97ce",
   "metadata": {},
   "source": [
    "Much easier than the Fellegi-Sunter method. Let's make predictions and compute\n",
    "precision, recall and the F1 score."
   ]
  },
  {
   "cell_type": "code",
   "execution_count": 9,
   "id": "41d5a203a0b3e7b2",
   "metadata": {
    "ExecuteTime": {
     "end_time": "2024-10-09T08:39:35.134196Z",
     "start_time": "2024-10-09T08:39:35.092687Z"
    },
    "execution": {
     "iopub.execute_input": "2024-11-29T09:35:48.887733Z",
     "iopub.status.busy": "2024-11-29T09:35:48.886959Z",
     "iopub.status.idle": "2024-11-29T09:35:49.031367Z",
     "shell.execute_reply": "2024-11-29T09:35:49.030496Z",
     "shell.execute_reply.started": "2024-11-29T09:35:48.887704Z"
    }
   },
   "outputs": [],
   "source": [
    "y_pred = model.predict(X_test)"
   ]
  },
  {
   "cell_type": "markdown",
   "id": "18e713f96a0bbccb",
   "metadata": {},
   "source": [
    "Now we can compute our metrics."
   ]
  },
  {
   "cell_type": "code",
   "execution_count": 10,
   "id": "433106402b5eccb",
   "metadata": {
    "ExecuteTime": {
     "end_time": "2024-10-09T08:39:36.566560Z",
     "start_time": "2024-10-09T08:39:36.560688Z"
    },
    "execution": {
     "iopub.execute_input": "2024-11-29T09:35:51.069653Z",
     "iopub.status.busy": "2024-11-29T09:35:51.069268Z",
     "iopub.status.idle": "2024-11-29T09:35:51.084193Z",
     "shell.execute_reply": "2024-11-29T09:35:51.083423Z",
     "shell.execute_reply.started": "2024-11-29T09:35:51.069625Z"
    }
   },
   "outputs": [
    {
     "name": "stdout",
     "output_type": "stream",
     "text": [
      "total comparisons: 472181\n",
      "tp=42;fp=148;tn=471589;fn=402\n",
      "precision=0.22105263157894736 recall=0.0945945945945946 F1=0.13249211356466878\n"
     ]
    }
   ],
   "source": [
    "tp = np.sum(np.logical_and(y_pred == 1, y_test == 1))\n",
    "fp = np.sum(np.logical_and(y_pred == 1, y_test == 0))\n",
    "tn = np.sum(np.logical_and(y_pred == 0, y_test == 0))\n",
    "fn = np.sum(np.logical_and(y_pred == 0, y_test == 1))\n",
    "total = len(y_test)\n",
    "print(f\"total comparisons: {total}\")\n",
    "print(f\"tp={tp};fp={fp};tn={tn};fn={fn}\")\n",
    "\n",
    "p = tp / (tp + fp) if tp + fp > 0 else 0\n",
    "r = tp / (tp + fn) if tp + fn > 0 else 0\n",
    "f1 = 2 * p * r / (p + r) if p + r > 0 else 0\n",
    "print(f\"precision={p}\", f\"recall={r}\", f\"F1={f1}\")"
   ]
  },
  {
   "cell_type": "markdown",
   "id": "635b982829490e88",
   "metadata": {},
   "source": [
    "The Naive-Bayes model has a different approach to determining the $\\mu$ and\n",
    "$\\lambda$ error margins for definitive match and non-match, respectively.\n",
    "It yields slightly better results compared to the classical Fellegi-Sunter\n",
    "deterministic decision model. It also involves writing much less code and there\n",
    "are still many ways of improving the results. A more subtle note is that this\n",
    "model yields more balanced precision/recall which makes it a better candidate\n",
    "for improvements via attribute similarity (because it is more sensitive by\n",
    "default).\n",
    "\n",
    "To improve our results, we can try various probabilistic distributions (we're\n",
    "using the normal distribution here to make decisions, but we could very well try\n",
    "out the Bernoulli distribution). Since the training is so fast, we can actually\n",
    "find the best fit for our data by iterating over many options. We know full well\n",
    "that the resulting model is overfitted and won't transfer to other data, but at\n",
    "least we get a very tunable evaluator fairly quickly and easily. \n",
    "\n",
    "Before we get into the weeds, there's something obviously wrong with this model:\n",
    "it doesn't even capture the case when data is missing. So maybe a better way\n",
    "forward is to capture more information in each individual feature. That starts\n",
    "by having floating point values in the feature matrix.\n",
    "\n",
    "Enter logistic regression!"
   ]
  },
  {
   "cell_type": "code",
   "execution_count": null,
   "id": "f1a348d1-8904-44bb-897f-921b6c64b294",
   "metadata": {},
   "outputs": [],
   "source": []
  }
 ],
 "metadata": {
  "kernelspec": {
   "display_name": "Python 3 (ipykernel)",
   "language": "python",
   "name": "python3"
  },
  "language_info": {
   "codemirror_mode": {
    "name": "ipython",
    "version": 3
   },
   "file_extension": ".py",
   "mimetype": "text/x-python",
   "name": "python",
   "nbconvert_exporter": "python",
   "pygments_lexer": "ipython3",
   "version": "3.12.7"
  }
 },
 "nbformat": 4,
 "nbformat_minor": 5
}
